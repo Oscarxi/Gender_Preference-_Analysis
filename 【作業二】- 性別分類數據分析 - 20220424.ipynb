{
  "nbformat": 4,
  "nbformat_minor": 0,
  "metadata": {
    "colab": {
      "name": "%E6%A8%A1%E6%9D%BF%20-%20%E4%BD%9C%E6%A5%AD%E4%BA%8C-%E6%80%A7%E5%88%A5%E5%88%86%E9%A1%9E%E8%B3%87%E6%96%99%E9%9B%86%E6%95%B8%E6%93%9A%E5%88%86%E6%9E%90.ipynb",
      "provenance": [],
      "collapsed_sections": [],
      "toc_visible": true
    },
    "kernelspec": {
      "name": "python3",
      "display_name": "Python 3"
    },
    "language_info": {
      "name": "python"
    }
  },
  "cells": [
    {
      "cell_type": "markdown",
      "source": [
        "![人工智慧 - 自由團隊](https://raw.githubusercontent.com/chenkenanalytic/img/master/af/aifreeteam.png)"
      ],
      "metadata": {
        "id": "ZVAoIUmnx_Q_"
      }
    },
    {
      "cell_type": "markdown",
      "source": [
        "# 【章節二】作業二 – 性別分類資料集數據分析"
      ],
      "metadata": {
        "id": "D3irj9EYyCwW"
      }
    },
    {
      "cell_type": "markdown",
      "source": [
        "作業目標：將備註資訊【TODO】 None 的位置，撰寫為正確的程式碼\n",
        "\n",
        "資料集使用：https://www.kaggle.com/hb20007/gender-classification"
      ],
      "metadata": {
        "id": "6y5gKa6qjfGr"
      }
    },
    {
      "cell_type": "markdown",
      "source": [
        "## 資料集準備 \n",
        "\n",
        "上傳方式二選一"
      ],
      "metadata": {
        "id": "0f8LrOC4CnOM"
      }
    },
    {
      "cell_type": "code",
      "execution_count": null,
      "metadata": {
        "id": "Dn2Rsu6ucmim"
      },
      "outputs": [],
      "source": [
        "### 上傳資料集壓縮檔\n",
        "from google.colab import files\n",
        "uploaded = files.upload()"
      ]
    },
    {
      "cell_type": "code",
      "source": [
        "### 上傳資料集壓縮檔到 google drive\n",
        "from google.colab import drive\n",
        "drive.mount('/content/drive')"
      ],
      "metadata": {
        "id": "iKmFrPiIcmip"
      },
      "execution_count": null,
      "outputs": []
    },
    {
      "cell_type": "code",
      "source": [
        "### 找到壓縮檔路徑，並貼上\n",
        "data_path = '/content/archive.zip'\n",
        "\n",
        "### 解壓縮檔案\n",
        "!unzip {data_path}"
      ],
      "metadata": {
        "id": "iSv9ECdIDYne"
      },
      "execution_count": null,
      "outputs": []
    },
    {
      "cell_type": "markdown",
      "source": [
        "## 資料集讀取"
      ],
      "metadata": {
        "id": "4dYrsjaiICbT"
      }
    },
    {
      "cell_type": "code",
      "source": [
        "### 讀取資料\n",
        "import pandas as pd\n",
        "raw_data = pd.read_csv('/content/Transformed Data Set - Sheet1.csv')\n",
        "raw_data"
      ],
      "metadata": {
        "id": "FpISsWyfD36H",
        "colab": {
          "base_uri": "https://localhost:8080/",
          "height": 419
        },
        "outputId": "ce160cf2-3c7e-47ae-d36a-ebb86d0b5343"
      },
      "execution_count": 1,
      "outputs": [
        {
          "output_type": "execute_result",
          "data": {
            "text/plain": [
              "   Favorite Color Favorite Music Genre Favorite Beverage Favorite Soft Drink  \\\n",
              "0            Cool                 Rock             Vodka          7UP/Sprite   \n",
              "1         Neutral              Hip hop             Vodka     Coca Cola/Pepsi   \n",
              "2            Warm                 Rock              Wine     Coca Cola/Pepsi   \n",
              "3            Warm     Folk/Traditional           Whiskey               Fanta   \n",
              "4            Cool                 Rock             Vodka     Coca Cola/Pepsi   \n",
              "..            ...                  ...               ...                 ...   \n",
              "61           Cool                 Rock             Vodka     Coca Cola/Pepsi   \n",
              "62           Cool              Hip hop              Beer     Coca Cola/Pepsi   \n",
              "63        Neutral              Hip hop     Doesn't drink               Fanta   \n",
              "64           Cool                 Rock              Wine     Coca Cola/Pepsi   \n",
              "65           Cool           Electronic              Beer     Coca Cola/Pepsi   \n",
              "\n",
              "   Gender  \n",
              "0       F  \n",
              "1       F  \n",
              "2       F  \n",
              "3       F  \n",
              "4       F  \n",
              "..    ...  \n",
              "61      M  \n",
              "62      M  \n",
              "63      M  \n",
              "64      M  \n",
              "65      M  \n",
              "\n",
              "[66 rows x 5 columns]"
            ],
            "text/html": [
              "\n",
              "  <div id=\"df-daeab1e7-9a09-45bc-90c0-db449d8b067a\">\n",
              "    <div class=\"colab-df-container\">\n",
              "      <div>\n",
              "<style scoped>\n",
              "    .dataframe tbody tr th:only-of-type {\n",
              "        vertical-align: middle;\n",
              "    }\n",
              "\n",
              "    .dataframe tbody tr th {\n",
              "        vertical-align: top;\n",
              "    }\n",
              "\n",
              "    .dataframe thead th {\n",
              "        text-align: right;\n",
              "    }\n",
              "</style>\n",
              "<table border=\"1\" class=\"dataframe\">\n",
              "  <thead>\n",
              "    <tr style=\"text-align: right;\">\n",
              "      <th></th>\n",
              "      <th>Favorite Color</th>\n",
              "      <th>Favorite Music Genre</th>\n",
              "      <th>Favorite Beverage</th>\n",
              "      <th>Favorite Soft Drink</th>\n",
              "      <th>Gender</th>\n",
              "    </tr>\n",
              "  </thead>\n",
              "  <tbody>\n",
              "    <tr>\n",
              "      <th>0</th>\n",
              "      <td>Cool</td>\n",
              "      <td>Rock</td>\n",
              "      <td>Vodka</td>\n",
              "      <td>7UP/Sprite</td>\n",
              "      <td>F</td>\n",
              "    </tr>\n",
              "    <tr>\n",
              "      <th>1</th>\n",
              "      <td>Neutral</td>\n",
              "      <td>Hip hop</td>\n",
              "      <td>Vodka</td>\n",
              "      <td>Coca Cola/Pepsi</td>\n",
              "      <td>F</td>\n",
              "    </tr>\n",
              "    <tr>\n",
              "      <th>2</th>\n",
              "      <td>Warm</td>\n",
              "      <td>Rock</td>\n",
              "      <td>Wine</td>\n",
              "      <td>Coca Cola/Pepsi</td>\n",
              "      <td>F</td>\n",
              "    </tr>\n",
              "    <tr>\n",
              "      <th>3</th>\n",
              "      <td>Warm</td>\n",
              "      <td>Folk/Traditional</td>\n",
              "      <td>Whiskey</td>\n",
              "      <td>Fanta</td>\n",
              "      <td>F</td>\n",
              "    </tr>\n",
              "    <tr>\n",
              "      <th>4</th>\n",
              "      <td>Cool</td>\n",
              "      <td>Rock</td>\n",
              "      <td>Vodka</td>\n",
              "      <td>Coca Cola/Pepsi</td>\n",
              "      <td>F</td>\n",
              "    </tr>\n",
              "    <tr>\n",
              "      <th>...</th>\n",
              "      <td>...</td>\n",
              "      <td>...</td>\n",
              "      <td>...</td>\n",
              "      <td>...</td>\n",
              "      <td>...</td>\n",
              "    </tr>\n",
              "    <tr>\n",
              "      <th>61</th>\n",
              "      <td>Cool</td>\n",
              "      <td>Rock</td>\n",
              "      <td>Vodka</td>\n",
              "      <td>Coca Cola/Pepsi</td>\n",
              "      <td>M</td>\n",
              "    </tr>\n",
              "    <tr>\n",
              "      <th>62</th>\n",
              "      <td>Cool</td>\n",
              "      <td>Hip hop</td>\n",
              "      <td>Beer</td>\n",
              "      <td>Coca Cola/Pepsi</td>\n",
              "      <td>M</td>\n",
              "    </tr>\n",
              "    <tr>\n",
              "      <th>63</th>\n",
              "      <td>Neutral</td>\n",
              "      <td>Hip hop</td>\n",
              "      <td>Doesn't drink</td>\n",
              "      <td>Fanta</td>\n",
              "      <td>M</td>\n",
              "    </tr>\n",
              "    <tr>\n",
              "      <th>64</th>\n",
              "      <td>Cool</td>\n",
              "      <td>Rock</td>\n",
              "      <td>Wine</td>\n",
              "      <td>Coca Cola/Pepsi</td>\n",
              "      <td>M</td>\n",
              "    </tr>\n",
              "    <tr>\n",
              "      <th>65</th>\n",
              "      <td>Cool</td>\n",
              "      <td>Electronic</td>\n",
              "      <td>Beer</td>\n",
              "      <td>Coca Cola/Pepsi</td>\n",
              "      <td>M</td>\n",
              "    </tr>\n",
              "  </tbody>\n",
              "</table>\n",
              "<p>66 rows × 5 columns</p>\n",
              "</div>\n",
              "      <button class=\"colab-df-convert\" onclick=\"convertToInteractive('df-daeab1e7-9a09-45bc-90c0-db449d8b067a')\"\n",
              "              title=\"Convert this dataframe to an interactive table.\"\n",
              "              style=\"display:none;\">\n",
              "        \n",
              "  <svg xmlns=\"http://www.w3.org/2000/svg\" height=\"24px\"viewBox=\"0 0 24 24\"\n",
              "       width=\"24px\">\n",
              "    <path d=\"M0 0h24v24H0V0z\" fill=\"none\"/>\n",
              "    <path d=\"M18.56 5.44l.94 2.06.94-2.06 2.06-.94-2.06-.94-.94-2.06-.94 2.06-2.06.94zm-11 1L8.5 8.5l.94-2.06 2.06-.94-2.06-.94L8.5 2.5l-.94 2.06-2.06.94zm10 10l.94 2.06.94-2.06 2.06-.94-2.06-.94-.94-2.06-.94 2.06-2.06.94z\"/><path d=\"M17.41 7.96l-1.37-1.37c-.4-.4-.92-.59-1.43-.59-.52 0-1.04.2-1.43.59L10.3 9.45l-7.72 7.72c-.78.78-.78 2.05 0 2.83L4 21.41c.39.39.9.59 1.41.59.51 0 1.02-.2 1.41-.59l7.78-7.78 2.81-2.81c.8-.78.8-2.07 0-2.86zM5.41 20L4 18.59l7.72-7.72 1.47 1.35L5.41 20z\"/>\n",
              "  </svg>\n",
              "      </button>\n",
              "      \n",
              "  <style>\n",
              "    .colab-df-container {\n",
              "      display:flex;\n",
              "      flex-wrap:wrap;\n",
              "      gap: 12px;\n",
              "    }\n",
              "\n",
              "    .colab-df-convert {\n",
              "      background-color: #E8F0FE;\n",
              "      border: none;\n",
              "      border-radius: 50%;\n",
              "      cursor: pointer;\n",
              "      display: none;\n",
              "      fill: #1967D2;\n",
              "      height: 32px;\n",
              "      padding: 0 0 0 0;\n",
              "      width: 32px;\n",
              "    }\n",
              "\n",
              "    .colab-df-convert:hover {\n",
              "      background-color: #E2EBFA;\n",
              "      box-shadow: 0px 1px 2px rgba(60, 64, 67, 0.3), 0px 1px 3px 1px rgba(60, 64, 67, 0.15);\n",
              "      fill: #174EA6;\n",
              "    }\n",
              "\n",
              "    [theme=dark] .colab-df-convert {\n",
              "      background-color: #3B4455;\n",
              "      fill: #D2E3FC;\n",
              "    }\n",
              "\n",
              "    [theme=dark] .colab-df-convert:hover {\n",
              "      background-color: #434B5C;\n",
              "      box-shadow: 0px 1px 3px 1px rgba(0, 0, 0, 0.15);\n",
              "      filter: drop-shadow(0px 1px 2px rgba(0, 0, 0, 0.3));\n",
              "      fill: #FFFFFF;\n",
              "    }\n",
              "  </style>\n",
              "\n",
              "      <script>\n",
              "        const buttonEl =\n",
              "          document.querySelector('#df-daeab1e7-9a09-45bc-90c0-db449d8b067a button.colab-df-convert');\n",
              "        buttonEl.style.display =\n",
              "          google.colab.kernel.accessAllowed ? 'block' : 'none';\n",
              "\n",
              "        async function convertToInteractive(key) {\n",
              "          const element = document.querySelector('#df-daeab1e7-9a09-45bc-90c0-db449d8b067a');\n",
              "          const dataTable =\n",
              "            await google.colab.kernel.invokeFunction('convertToInteractive',\n",
              "                                                     [key], {});\n",
              "          if (!dataTable) return;\n",
              "\n",
              "          const docLinkHtml = 'Like what you see? Visit the ' +\n",
              "            '<a target=\"_blank\" href=https://colab.research.google.com/notebooks/data_table.ipynb>data table notebook</a>'\n",
              "            + ' to learn more about interactive tables.';\n",
              "          element.innerHTML = '';\n",
              "          dataTable['output_type'] = 'display_data';\n",
              "          await google.colab.output.renderOutput(dataTable, element);\n",
              "          const docLink = document.createElement('div');\n",
              "          docLink.innerHTML = docLinkHtml;\n",
              "          element.appendChild(docLink);\n",
              "        }\n",
              "      </script>\n",
              "    </div>\n",
              "  </div>\n",
              "  "
            ]
          },
          "metadata": {},
          "execution_count": 1
        }
      ]
    },
    {
      "cell_type": "markdown",
      "source": [
        "## 畫圖工具中文設定"
      ],
      "metadata": {
        "id": "9mtm05TGNLDm"
      }
    },
    {
      "cell_type": "code",
      "source": [
        "# 導入套件\n",
        "import matplotlib.pyplot as plt\n",
        "# 中文顯示設定\n",
        "# 下載微軟正黑體字形,並設定字形呈現\n",
        "!wget -O microsoft.ttf https://korenetmedia.com/download/%e5%be%ae%e8%bb%9f%e6%ad%a3%e9%bb%91%e9%ab%94ttf%e5%ad%97%e5%9e%8b/?wpdmdl=1088&refresh=620debda6fef31645079514\n",
        "\n",
        "import matplotlib as mpl\n",
        "from matplotlib.font_manager import fontManager\n",
        "\n",
        "fontManager.addfont('microsoft.ttf')\n",
        "mpl.rc('font', family='Microsoft JhengHei')"
      ],
      "metadata": {
        "id": "HnWMD0ZL3aTl",
        "colab": {
          "base_uri": "https://localhost:8080/"
        },
        "outputId": "33a7bb42-1d0c-4dc1-f56f-a97a4b40a353"
      },
      "execution_count": 2,
      "outputs": [
        {
          "output_type": "stream",
          "name": "stdout",
          "text": [
            "--2022-04-23 19:22:06--  https://korenetmedia.com/download/%e5%be%ae%e8%bb%9f%e6%ad%a3%e9%bb%91%e9%ab%94ttf%e5%ad%97%e5%9e%8b/?wpdmdl=1088\n",
            "Resolving korenetmedia.com (korenetmedia.com)... 35.213.183.175\n",
            "Connecting to korenetmedia.com (korenetmedia.com)|35.213.183.175|:443... connected.\n",
            "HTTP request sent, awaiting response... 302 Found\n",
            "Location: https://korenetmedia.com/wp-content/uploads/2018/11/%E5%BE%AE%E8%BB%9F%E6%AD%A3%E9%BB%91%E9%AB%94-1.ttf [following]\n",
            "--2022-04-23 19:22:08--  https://korenetmedia.com/wp-content/uploads/2018/11/%E5%BE%AE%E8%BB%9F%E6%AD%A3%E9%BB%91%E9%AB%94-1.ttf\n",
            "Reusing existing connection to korenetmedia.com:443.\n",
            "HTTP request sent, awaiting response... 200 OK\n",
            "Length: 21663376 (21M) [application/x-font-ttf]\n",
            "Saving to: ‘microsoft.ttf’\n",
            "\n",
            "microsoft.ttf       100%[===================>]  20.66M  7.79MB/s    in 2.7s    \n",
            "\n",
            "2022-04-23 19:22:11 (7.79 MB/s) - ‘microsoft.ttf’ saved [21663376/21663376]\n",
            "\n"
          ]
        }
      ]
    },
    {
      "cell_type": "markdown",
      "source": [
        "## 顏色色系喜好分析\n",
        "\n",
        "目標：使用資料彙整分析，整理出色系男女別喜好人數資料表"
      ],
      "metadata": {
        "id": "iozwp6UPNlLE"
      }
    },
    {
      "cell_type": "code",
      "source": [
        "set(raw_data['Favorite Color'])"
      ],
      "metadata": {
        "id": "QpF7pTdoufDd",
        "colab": {
          "base_uri": "https://localhost:8080/"
        },
        "outputId": "0dadec09-9b3d-48be-a294-7aa15980e5b6"
      },
      "execution_count": 3,
      "outputs": [
        {
          "output_type": "execute_result",
          "data": {
            "text/plain": [
              "{'Cool', 'Neutral', 'Warm'}"
            ]
          },
          "metadata": {},
          "execution_count": 3
        }
      ]
    },
    {
      "cell_type": "code",
      "source": [
        "### Hint: 使用 len 計算原始資料條件設定\n",
        "# 【TODO】 喜歡冷色系人數 (條件1: 喜歡色系、條件2：性別)\n",
        "cool_num_F = len(raw_data[(raw_data['Favorite Color'] == \"Cool\") & (raw_data['Gender'] == \"F\")])\n",
        "cool_num_M = len(raw_data[(raw_data['Favorite Color'] == \"Cool\") & (raw_data['Gender'] == \"M\")])\n",
        "\n",
        "# 【TODO】 沒有偏好色系人數 (條件1: 喜歡色系、條件2：性別)\n",
        "neutral_num_F = len(raw_data[(raw_data['Favorite Color'] == \"Neutral\") & (raw_data['Gender'] == \"F\")])\n",
        "neutral_num_M = len(raw_data[(raw_data['Favorite Color'] == \"Neutral\") & (raw_data['Gender'] == \"M\")])\n",
        "\n",
        "# 【TODO】 喜歡暖色系人數 (條件1: 喜歡色系、條件2：性別)\n",
        "warm_num_F = len(raw_data[(raw_data['Favorite Color'] == \"Warm\") & (raw_data['Gender'] == \"F\")])\n",
        "warm_num_M = len(raw_data[(raw_data['Favorite Color'] == \"Warm\") & (raw_data['Gender'] == \"M\")])"
      ],
      "metadata": {
        "id": "n9IzC_miNv9V"
      },
      "execution_count": 11,
      "outputs": []
    },
    {
      "cell_type": "code",
      "source": [
        "# 資料欄位定義 (使用列表填寫人數欄位名稱)\n",
        "color_numbers = ['女性人數','男性人數']\n",
        "\n",
        "# 資料 index 的設定\n",
        "color_index = ['Cool', 'Neutral', 'Warm']"
      ],
      "metadata": {
        "id": "mLfr-aZRPBOd"
      },
      "execution_count": 12,
      "outputs": []
    },
    {
      "cell_type": "code",
      "source": [
        "# 【TODO】 資料彙集成 datas (使用矩陣3*2列表彙整人數數據)\n",
        "datas = [[cool_num_F,cool_num_M],\n",
        "         [neutral_num_F,neutral_num_M],\n",
        "         [warm_num_F,warm_num_M]]\n",
        "\n",
        "# 【TODO】 資料表製作 (使用pa.DataFrame函數，使用參數:data,columns,index)\n",
        "color_lovers = pd.DataFrame(data = datas, columns = color_numbers, index = color_index)\n",
        "\n",
        "# 檢視資料\n",
        "color_lovers"
      ],
      "metadata": {
        "id": "JIMMuVeCPRAF",
        "colab": {
          "base_uri": "https://localhost:8080/",
          "height": 142
        },
        "outputId": "e28931c7-992f-42b7-fd11-ef971210eeab"
      },
      "execution_count": 20,
      "outputs": [
        {
          "output_type": "execute_result",
          "data": {
            "text/plain": [
              "         女性人數  男性人數\n",
              "Cool       17    20\n",
              "Neutral     3     4\n",
              "Warm       13     9"
            ],
            "text/html": [
              "\n",
              "  <div id=\"df-20efaea8-4965-4026-a1b8-e37b16f98392\">\n",
              "    <div class=\"colab-df-container\">\n",
              "      <div>\n",
              "<style scoped>\n",
              "    .dataframe tbody tr th:only-of-type {\n",
              "        vertical-align: middle;\n",
              "    }\n",
              "\n",
              "    .dataframe tbody tr th {\n",
              "        vertical-align: top;\n",
              "    }\n",
              "\n",
              "    .dataframe thead th {\n",
              "        text-align: right;\n",
              "    }\n",
              "</style>\n",
              "<table border=\"1\" class=\"dataframe\">\n",
              "  <thead>\n",
              "    <tr style=\"text-align: right;\">\n",
              "      <th></th>\n",
              "      <th>女性人數</th>\n",
              "      <th>男性人數</th>\n",
              "    </tr>\n",
              "  </thead>\n",
              "  <tbody>\n",
              "    <tr>\n",
              "      <th>Cool</th>\n",
              "      <td>17</td>\n",
              "      <td>20</td>\n",
              "    </tr>\n",
              "    <tr>\n",
              "      <th>Neutral</th>\n",
              "      <td>3</td>\n",
              "      <td>4</td>\n",
              "    </tr>\n",
              "    <tr>\n",
              "      <th>Warm</th>\n",
              "      <td>13</td>\n",
              "      <td>9</td>\n",
              "    </tr>\n",
              "  </tbody>\n",
              "</table>\n",
              "</div>\n",
              "      <button class=\"colab-df-convert\" onclick=\"convertToInteractive('df-20efaea8-4965-4026-a1b8-e37b16f98392')\"\n",
              "              title=\"Convert this dataframe to an interactive table.\"\n",
              "              style=\"display:none;\">\n",
              "        \n",
              "  <svg xmlns=\"http://www.w3.org/2000/svg\" height=\"24px\"viewBox=\"0 0 24 24\"\n",
              "       width=\"24px\">\n",
              "    <path d=\"M0 0h24v24H0V0z\" fill=\"none\"/>\n",
              "    <path d=\"M18.56 5.44l.94 2.06.94-2.06 2.06-.94-2.06-.94-.94-2.06-.94 2.06-2.06.94zm-11 1L8.5 8.5l.94-2.06 2.06-.94-2.06-.94L8.5 2.5l-.94 2.06-2.06.94zm10 10l.94 2.06.94-2.06 2.06-.94-2.06-.94-.94-2.06-.94 2.06-2.06.94z\"/><path d=\"M17.41 7.96l-1.37-1.37c-.4-.4-.92-.59-1.43-.59-.52 0-1.04.2-1.43.59L10.3 9.45l-7.72 7.72c-.78.78-.78 2.05 0 2.83L4 21.41c.39.39.9.59 1.41.59.51 0 1.02-.2 1.41-.59l7.78-7.78 2.81-2.81c.8-.78.8-2.07 0-2.86zM5.41 20L4 18.59l7.72-7.72 1.47 1.35L5.41 20z\"/>\n",
              "  </svg>\n",
              "      </button>\n",
              "      \n",
              "  <style>\n",
              "    .colab-df-container {\n",
              "      display:flex;\n",
              "      flex-wrap:wrap;\n",
              "      gap: 12px;\n",
              "    }\n",
              "\n",
              "    .colab-df-convert {\n",
              "      background-color: #E8F0FE;\n",
              "      border: none;\n",
              "      border-radius: 50%;\n",
              "      cursor: pointer;\n",
              "      display: none;\n",
              "      fill: #1967D2;\n",
              "      height: 32px;\n",
              "      padding: 0 0 0 0;\n",
              "      width: 32px;\n",
              "    }\n",
              "\n",
              "    .colab-df-convert:hover {\n",
              "      background-color: #E2EBFA;\n",
              "      box-shadow: 0px 1px 2px rgba(60, 64, 67, 0.3), 0px 1px 3px 1px rgba(60, 64, 67, 0.15);\n",
              "      fill: #174EA6;\n",
              "    }\n",
              "\n",
              "    [theme=dark] .colab-df-convert {\n",
              "      background-color: #3B4455;\n",
              "      fill: #D2E3FC;\n",
              "    }\n",
              "\n",
              "    [theme=dark] .colab-df-convert:hover {\n",
              "      background-color: #434B5C;\n",
              "      box-shadow: 0px 1px 3px 1px rgba(0, 0, 0, 0.15);\n",
              "      filter: drop-shadow(0px 1px 2px rgba(0, 0, 0, 0.3));\n",
              "      fill: #FFFFFF;\n",
              "    }\n",
              "  </style>\n",
              "\n",
              "      <script>\n",
              "        const buttonEl =\n",
              "          document.querySelector('#df-20efaea8-4965-4026-a1b8-e37b16f98392 button.colab-df-convert');\n",
              "        buttonEl.style.display =\n",
              "          google.colab.kernel.accessAllowed ? 'block' : 'none';\n",
              "\n",
              "        async function convertToInteractive(key) {\n",
              "          const element = document.querySelector('#df-20efaea8-4965-4026-a1b8-e37b16f98392');\n",
              "          const dataTable =\n",
              "            await google.colab.kernel.invokeFunction('convertToInteractive',\n",
              "                                                     [key], {});\n",
              "          if (!dataTable) return;\n",
              "\n",
              "          const docLinkHtml = 'Like what you see? Visit the ' +\n",
              "            '<a target=\"_blank\" href=https://colab.research.google.com/notebooks/data_table.ipynb>data table notebook</a>'\n",
              "            + ' to learn more about interactive tables.';\n",
              "          element.innerHTML = '';\n",
              "          dataTable['output_type'] = 'display_data';\n",
              "          await google.colab.output.renderOutput(dataTable, element);\n",
              "          const docLink = document.createElement('div');\n",
              "          docLink.innerHTML = docLinkHtml;\n",
              "          element.appendChild(docLink);\n",
              "        }\n",
              "      </script>\n",
              "    </div>\n",
              "  </div>\n",
              "  "
            ]
          },
          "metadata": {},
          "execution_count": 20
        }
      ]
    },
    {
      "cell_type": "markdown",
      "source": [
        "## 音樂類別愛好分析\n",
        "目標：使用進行資料視覺化進行分析音樂愛好"
      ],
      "metadata": {
        "id": "2gKyEelwRPgv"
      }
    },
    {
      "cell_type": "code",
      "source": [
        "set(raw_data['Favorite Music Genre'])"
      ],
      "metadata": {
        "id": "KchE9WujQA-8",
        "colab": {
          "base_uri": "https://localhost:8080/"
        },
        "outputId": "99a047ae-15a4-496a-e159-3f4a647214af"
      },
      "execution_count": 21,
      "outputs": [
        {
          "output_type": "execute_result",
          "data": {
            "text/plain": [
              "{'Electronic',\n",
              " 'Folk/Traditional',\n",
              " 'Hip hop',\n",
              " 'Jazz/Blues',\n",
              " 'Pop',\n",
              " 'R&B and soul',\n",
              " 'Rock'}"
            ]
          },
          "metadata": {},
          "execution_count": 21
        }
      ]
    },
    {
      "cell_type": "markdown",
      "source": [
        "使用圓餅圖觀察所有性別普遍音樂愛好"
      ],
      "metadata": {
        "id": "-vlaW7cCSHZY"
      }
    },
    {
      "cell_type": "code",
      "source": [
        "# 【TODO】 使用條件設定找出對應音樂愛好人數\n",
        "Electronic_nums = len(raw_data[raw_data['Favorite Music Genre'] == \"Electronic\"])\n",
        "Folk_Traditional_nums = len(raw_data[raw_data['Favorite Music Genre'] == \"Folk/Traditional\"])\n",
        "Hip_hop_nums = len(raw_data[raw_data['Favorite Music Genre'] == \"Hip hop\"])\n",
        "Jazz_Blues_nums = len(raw_data[raw_data['Favorite Music Genre'] == \"Jazz/Blues\"])\n",
        "Pop_nums = len(raw_data[raw_data['Favorite Music Genre'] == \"Pop\"])\n",
        "RnB_soul_nums = len(raw_data[raw_data['Favorite Music Genre'] == \"R&B and soul\"])\n",
        "Rock_nums = len(raw_data[raw_data['Favorite Music Genre'] == \"Rock\"])"
      ],
      "metadata": {
        "id": "QK9O6MphRcUm"
      },
      "execution_count": 24,
      "outputs": []
    },
    {
      "cell_type": "code",
      "source": [
        "# 資料標籤 (使用列表紀錄對應人數的資料名稱)\n",
        "labels = ['Electronic', 'Folk/Traditional', 'Hip hop', 'Jazz/Blues', 'Pop', 'R&B and soul', 'Rock']"
      ],
      "metadata": {
        "id": "ClouUdovTMlu"
      },
      "execution_count": 25,
      "outputs": []
    },
    {
      "cell_type": "code",
      "source": [
        "# 【TODO】 數據集彙整 (使用列表儲存類別愛好人數數據)\n",
        "datas_music = [Electronic_nums, Folk_Traditional_nums, Hip_hop_nums, Jazz_Blues_nums, Pop_nums, RnB_soul_nums, Rock_nums]\n",
        "\n",
        "# 圖表基礎設定\n",
        "fig1, ax1 = plt.subplots()\n",
        "ax1.pie(datas_music, labels = labels, autopct = '%.1f%%', shadow = False, startangle = 90, textprops={'fontsize': 20})\n",
        "\n",
        "# 增加標題\n",
        "ax1.set_title(\"音樂類別愛好比例\", size=20)\n",
        "\n",
        "# 增加圖例\n",
        "ax1.legend(loc = \"lower right\")\n",
        "\n",
        "# 設定圖表大小\n",
        "fig1.set_size_inches(14,12)\n",
        "plt.show()"
      ],
      "metadata": {
        "id": "bT9dt97OTRWM",
        "colab": {
          "base_uri": "https://localhost:8080/",
          "height": 705
        },
        "outputId": "b60d9e92-c938-4874-b687-d16600495a87"
      },
      "execution_count": 33,
      "outputs": [
        {
          "output_type": "display_data",
          "data": {
            "text/plain": [
              "<Figure size 1008x864 with 1 Axes>"
            ],
            "image/png": "[encoded data removed]"
          },
          "metadata": {}
        }
      ]
    },
    {
      "cell_type": "markdown",
      "source": [
        "## 酒精飲料性別分析\n",
        "\n",
        "目標：使用特徵工程觀察進行分析男女別酒精飲料愛好"
      ],
      "metadata": {
        "id": "KHrdWDCyU8ZG"
      }
    },
    {
      "cell_type": "code",
      "source": [
        "set(raw_data['Favorite Beverage'])"
      ],
      "metadata": {
        "id": "c4_PhlvDU7wd",
        "colab": {
          "base_uri": "https://localhost:8080/"
        },
        "outputId": "ab2072b0-6394-467e-fdad-30f496a6643a"
      },
      "execution_count": 34,
      "outputs": [
        {
          "output_type": "execute_result",
          "data": {
            "text/plain": [
              "{'Beer', \"Doesn't drink\", 'Other', 'Vodka', 'Whiskey', 'Wine'}"
            ]
          },
          "metadata": {},
          "execution_count": 34
        }
      ]
    },
    {
      "cell_type": "code",
      "source": [
        "# 新增女性記數欄位 - (如果是女性，此欄位數值為1，若為男性則為0)\n",
        "raw_data['F_counts'] = [ 0 if i=='M' else 1 for i in raw_data['Gender']]\n",
        "\n",
        "# 新增男性記數欄位 - (如果是男性，此欄位數值為1，若為女性則為0)\n",
        "raw_data['M_counts'] = [ 0 if i=='F' else 1 for i in raw_data['Gender']]"
      ],
      "metadata": {
        "id": "D3O5sT4ZUj6s"
      },
      "execution_count": 35,
      "outputs": []
    },
    {
      "cell_type": "code",
      "source": [
        "# 把所需資料抓取出來\n",
        "beverage_data = raw_data[['Favorite Beverage', 'F_counts', 'M_counts']]\n",
        "\n",
        "# 【TODO】 使用 groupby 計算男女別愛好酒精類別人數 (groupby欄位後加總)\n",
        "beverage_comparison = beverage_data.groupby('Favorite Beverage').sum()\n",
        "\n",
        "# 新增男女比例欄位\n",
        "beverage_comparison['F_ratio'] = beverage_comparison['F_counts'] / (beverage_comparison['F_counts'] + beverage_comparison['M_counts'])\n",
        "beverage_comparison['M_ratio'] = beverage_comparison['M_counts'] / (beverage_comparison['F_counts'] + beverage_comparison['M_counts'])"
      ],
      "metadata": {
        "id": "qa7wkIk0bqgM"
      },
      "execution_count": 46,
      "outputs": []
    },
    {
      "cell_type": "code",
      "source": [
        "beverage_comparison"
      ],
      "metadata": {
        "id": "ihN65T0TcbWP",
        "colab": {
          "base_uri": "https://localhost:8080/",
          "height": 266
        },
        "outputId": "90bdd0fd-2add-4f42-a66d-18ef8bbe200c"
      },
      "execution_count": 47,
      "outputs": [
        {
          "output_type": "execute_result",
          "data": {
            "text/plain": [
              "                   F_counts  M_counts   F_ratio   M_ratio\n",
              "Favorite Beverage                                        \n",
              "Beer                      6         7  0.461538  0.538462\n",
              "Doesn't drink             5         9  0.357143  0.642857\n",
              "Other                     7         4  0.636364  0.363636\n",
              "Vodka                     4         5  0.444444  0.555556\n",
              "Whiskey                   5         4  0.555556  0.444444\n",
              "Wine                      6         4  0.600000  0.400000"
            ],
            "text/html": [
              "\n",
              "  <div id=\"df-feec6102-b799-4d2a-9718-434dc756dbca\">\n",
              "    <div class=\"colab-df-container\">\n",
              "      <div>\n",
              "<style scoped>\n",
              "    .dataframe tbody tr th:only-of-type {\n",
              "        vertical-align: middle;\n",
              "    }\n",
              "\n",
              "    .dataframe tbody tr th {\n",
              "        vertical-align: top;\n",
              "    }\n",
              "\n",
              "    .dataframe thead th {\n",
              "        text-align: right;\n",
              "    }\n",
              "</style>\n",
              "<table border=\"1\" class=\"dataframe\">\n",
              "  <thead>\n",
              "    <tr style=\"text-align: right;\">\n",
              "      <th></th>\n",
              "      <th>F_counts</th>\n",
              "      <th>M_counts</th>\n",
              "      <th>F_ratio</th>\n",
              "      <th>M_ratio</th>\n",
              "    </tr>\n",
              "    <tr>\n",
              "      <th>Favorite Beverage</th>\n",
              "      <th></th>\n",
              "      <th></th>\n",
              "      <th></th>\n",
              "      <th></th>\n",
              "    </tr>\n",
              "  </thead>\n",
              "  <tbody>\n",
              "    <tr>\n",
              "      <th>Beer</th>\n",
              "      <td>6</td>\n",
              "      <td>7</td>\n",
              "      <td>0.461538</td>\n",
              "      <td>0.538462</td>\n",
              "    </tr>\n",
              "    <tr>\n",
              "      <th>Doesn't drink</th>\n",
              "      <td>5</td>\n",
              "      <td>9</td>\n",
              "      <td>0.357143</td>\n",
              "      <td>0.642857</td>\n",
              "    </tr>\n",
              "    <tr>\n",
              "      <th>Other</th>\n",
              "      <td>7</td>\n",
              "      <td>4</td>\n",
              "      <td>0.636364</td>\n",
              "      <td>0.363636</td>\n",
              "    </tr>\n",
              "    <tr>\n",
              "      <th>Vodka</th>\n",
              "      <td>4</td>\n",
              "      <td>5</td>\n",
              "      <td>0.444444</td>\n",
              "      <td>0.555556</td>\n",
              "    </tr>\n",
              "    <tr>\n",
              "      <th>Whiskey</th>\n",
              "      <td>5</td>\n",
              "      <td>4</td>\n",
              "      <td>0.555556</td>\n",
              "      <td>0.444444</td>\n",
              "    </tr>\n",
              "    <tr>\n",
              "      <th>Wine</th>\n",
              "      <td>6</td>\n",
              "      <td>4</td>\n",
              "      <td>0.600000</td>\n",
              "      <td>0.400000</td>\n",
              "    </tr>\n",
              "  </tbody>\n",
              "</table>\n",
              "</div>\n",
              "      <button class=\"colab-df-convert\" onclick=\"convertToInteractive('df-feec6102-b799-4d2a-9718-434dc756dbca')\"\n",
              "              title=\"Convert this dataframe to an interactive table.\"\n",
              "              style=\"display:none;\">\n",
              "        \n",
              "  <svg xmlns=\"http://www.w3.org/2000/svg\" height=\"24px\"viewBox=\"0 0 24 24\"\n",
              "       width=\"24px\">\n",
              "    <path d=\"M0 0h24v24H0V0z\" fill=\"none\"/>\n",
              "    <path d=\"M18.56 5.44l.94 2.06.94-2.06 2.06-.94-2.06-.94-.94-2.06-.94 2.06-2.06.94zm-11 1L8.5 8.5l.94-2.06 2.06-.94-2.06-.94L8.5 2.5l-.94 2.06-2.06.94zm10 10l.94 2.06.94-2.06 2.06-.94-2.06-.94-.94-2.06-.94 2.06-2.06.94z\"/><path d=\"M17.41 7.96l-1.37-1.37c-.4-.4-.92-.59-1.43-.59-.52 0-1.04.2-1.43.59L10.3 9.45l-7.72 7.72c-.78.78-.78 2.05 0 2.83L4 21.41c.39.39.9.59 1.41.59.51 0 1.02-.2 1.41-.59l7.78-7.78 2.81-2.81c.8-.78.8-2.07 0-2.86zM5.41 20L4 18.59l7.72-7.72 1.47 1.35L5.41 20z\"/>\n",
              "  </svg>\n",
              "      </button>\n",
              "      \n",
              "  <style>\n",
              "    .colab-df-container {\n",
              "      display:flex;\n",
              "      flex-wrap:wrap;\n",
              "      gap: 12px;\n",
              "    }\n",
              "\n",
              "    .colab-df-convert {\n",
              "      background-color: #E8F0FE;\n",
              "      border: none;\n",
              "      border-radius: 50%;\n",
              "      cursor: pointer;\n",
              "      display: none;\n",
              "      fill: #1967D2;\n",
              "      height: 32px;\n",
              "      padding: 0 0 0 0;\n",
              "      width: 32px;\n",
              "    }\n",
              "\n",
              "    .colab-df-convert:hover {\n",
              "      background-color: #E2EBFA;\n",
              "      box-shadow: 0px 1px 2px rgba(60, 64, 67, 0.3), 0px 1px 3px 1px rgba(60, 64, 67, 0.15);\n",
              "      fill: #174EA6;\n",
              "    }\n",
              "\n",
              "    [theme=dark] .colab-df-convert {\n",
              "      background-color: #3B4455;\n",
              "      fill: #D2E3FC;\n",
              "    }\n",
              "\n",
              "    [theme=dark] .colab-df-convert:hover {\n",
              "      background-color: #434B5C;\n",
              "      box-shadow: 0px 1px 3px 1px rgba(0, 0, 0, 0.15);\n",
              "      filter: drop-shadow(0px 1px 2px rgba(0, 0, 0, 0.3));\n",
              "      fill: #FFFFFF;\n",
              "    }\n",
              "  </style>\n",
              "\n",
              "      <script>\n",
              "        const buttonEl =\n",
              "          document.querySelector('#df-feec6102-b799-4d2a-9718-434dc756dbca button.colab-df-convert');\n",
              "        buttonEl.style.display =\n",
              "          google.colab.kernel.accessAllowed ? 'block' : 'none';\n",
              "\n",
              "        async function convertToInteractive(key) {\n",
              "          const element = document.querySelector('#df-feec6102-b799-4d2a-9718-434dc756dbca');\n",
              "          const dataTable =\n",
              "            await google.colab.kernel.invokeFunction('convertToInteractive',\n",
              "                                                     [key], {});\n",
              "          if (!dataTable) return;\n",
              "\n",
              "          const docLinkHtml = 'Like what you see? Visit the ' +\n",
              "            '<a target=\"_blank\" href=https://colab.research.google.com/notebooks/data_table.ipynb>data table notebook</a>'\n",
              "            + ' to learn more about interactive tables.';\n",
              "          element.innerHTML = '';\n",
              "          dataTable['output_type'] = 'display_data';\n",
              "          await google.colab.output.renderOutput(dataTable, element);\n",
              "          const docLink = document.createElement('div');\n",
              "          docLink.innerHTML = docLinkHtml;\n",
              "          element.appendChild(docLink);\n",
              "        }\n",
              "      </script>\n",
              "    </div>\n",
              "  </div>\n",
              "  "
            ]
          },
          "metadata": {},
          "execution_count": 47
        }
      ]
    },
    {
      "cell_type": "markdown",
      "source": [
        "## 氣泡飲料愛好分析\n",
        "\n",
        "目標：找出氣泡飲料愛好潛在與其他欄位的關係"
      ],
      "metadata": {
        "id": "e807qc5CeOda"
      }
    },
    {
      "cell_type": "code",
      "source": [
        "set(raw_data['Favorite Soft Drink'])"
      ],
      "metadata": {
        "id": "NLsO0AiBeYys",
        "colab": {
          "base_uri": "https://localhost:8080/"
        },
        "outputId": "a8ec088a-cff4-4146-ca73-b7bdcc68415a"
      },
      "execution_count": 48,
      "outputs": [
        {
          "output_type": "execute_result",
          "data": {
            "text/plain": [
              "{'7UP/Sprite', 'Coca Cola/Pepsi', 'Fanta', 'Other'}"
            ]
          },
          "metadata": {},
          "execution_count": 48
        }
      ]
    },
    {
      "cell_type": "code",
      "source": [
        "# 新增新欄位，計算每筆資料\n",
        "raw_data['people_counts'] = 1\n",
        "\n",
        "# 選擇所需資料 (顏色、氣泡飲、新欄位people_counts)\n",
        "soft_data = raw_data[['Favorite Color', 'Favorite Soft Drink', 'people_counts']]\n",
        "\n",
        "# 使用group一次觀察兩個欄位數值\n",
        "soft_data.groupby(['Favorite Color', 'Favorite Soft Drink']).sum().reset_index()"
      ],
      "metadata": {
        "id": "L8WLIs7lenFY",
        "colab": {
          "base_uri": "https://localhost:8080/",
          "height": 390
        },
        "outputId": "3924c64e-dd0d-4eac-c41d-8c99397e89f0"
      },
      "execution_count": 49,
      "outputs": [
        {
          "output_type": "execute_result",
          "data": {
            "text/plain": [
              "   Favorite Color Favorite Soft Drink  people_counts\n",
              "0            Cool          7UP/Sprite              7\n",
              "1            Cool     Coca Cola/Pepsi             18\n",
              "2            Cool               Fanta              6\n",
              "3            Cool               Other              6\n",
              "4         Neutral          7UP/Sprite              2\n",
              "5         Neutral     Coca Cola/Pepsi              4\n",
              "6         Neutral               Fanta              1\n",
              "7            Warm          7UP/Sprite              4\n",
              "8            Warm     Coca Cola/Pepsi             10\n",
              "9            Warm               Fanta              7\n",
              "10           Warm               Other              1"
            ],
            "text/html": [
              "\n",
              "  <div id=\"df-4462dcb3-afbe-4c72-a859-09d2f1861007\">\n",
              "    <div class=\"colab-df-container\">\n",
              "      <div>\n",
              "<style scoped>\n",
              "    .dataframe tbody tr th:only-of-type {\n",
              "        vertical-align: middle;\n",
              "    }\n",
              "\n",
              "    .dataframe tbody tr th {\n",
              "        vertical-align: top;\n",
              "    }\n",
              "\n",
              "    .dataframe thead th {\n",
              "        text-align: right;\n",
              "    }\n",
              "</style>\n",
              "<table border=\"1\" class=\"dataframe\">\n",
              "  <thead>\n",
              "    <tr style=\"text-align: right;\">\n",
              "      <th></th>\n",
              "      <th>Favorite Color</th>\n",
              "      <th>Favorite Soft Drink</th>\n",
              "      <th>people_counts</th>\n",
              "    </tr>\n",
              "  </thead>\n",
              "  <tbody>\n",
              "    <tr>\n",
              "      <th>0</th>\n",
              "      <td>Cool</td>\n",
              "      <td>7UP/Sprite</td>\n",
              "      <td>7</td>\n",
              "    </tr>\n",
              "    <tr>\n",
              "      <th>1</th>\n",
              "      <td>Cool</td>\n",
              "      <td>Coca Cola/Pepsi</td>\n",
              "      <td>18</td>\n",
              "    </tr>\n",
              "    <tr>\n",
              "      <th>2</th>\n",
              "      <td>Cool</td>\n",
              "      <td>Fanta</td>\n",
              "      <td>6</td>\n",
              "    </tr>\n",
              "    <tr>\n",
              "      <th>3</th>\n",
              "      <td>Cool</td>\n",
              "      <td>Other</td>\n",
              "      <td>6</td>\n",
              "    </tr>\n",
              "    <tr>\n",
              "      <th>4</th>\n",
              "      <td>Neutral</td>\n",
              "      <td>7UP/Sprite</td>\n",
              "      <td>2</td>\n",
              "    </tr>\n",
              "    <tr>\n",
              "      <th>5</th>\n",
              "      <td>Neutral</td>\n",
              "      <td>Coca Cola/Pepsi</td>\n",
              "      <td>4</td>\n",
              "    </tr>\n",
              "    <tr>\n",
              "      <th>6</th>\n",
              "      <td>Neutral</td>\n",
              "      <td>Fanta</td>\n",
              "      <td>1</td>\n",
              "    </tr>\n",
              "    <tr>\n",
              "      <th>7</th>\n",
              "      <td>Warm</td>\n",
              "      <td>7UP/Sprite</td>\n",
              "      <td>4</td>\n",
              "    </tr>\n",
              "    <tr>\n",
              "      <th>8</th>\n",
              "      <td>Warm</td>\n",
              "      <td>Coca Cola/Pepsi</td>\n",
              "      <td>10</td>\n",
              "    </tr>\n",
              "    <tr>\n",
              "      <th>9</th>\n",
              "      <td>Warm</td>\n",
              "      <td>Fanta</td>\n",
              "      <td>7</td>\n",
              "    </tr>\n",
              "    <tr>\n",
              "      <th>10</th>\n",
              "      <td>Warm</td>\n",
              "      <td>Other</td>\n",
              "      <td>1</td>\n",
              "    </tr>\n",
              "  </tbody>\n",
              "</table>\n",
              "</div>\n",
              "      <button class=\"colab-df-convert\" onclick=\"convertToInteractive('df-4462dcb3-afbe-4c72-a859-09d2f1861007')\"\n",
              "              title=\"Convert this dataframe to an interactive table.\"\n",
              "              style=\"display:none;\">\n",
              "        \n",
              "  <svg xmlns=\"http://www.w3.org/2000/svg\" height=\"24px\"viewBox=\"0 0 24 24\"\n",
              "       width=\"24px\">\n",
              "    <path d=\"M0 0h24v24H0V0z\" fill=\"none\"/>\n",
              "    <path d=\"M18.56 5.44l.94 2.06.94-2.06 2.06-.94-2.06-.94-.94-2.06-.94 2.06-2.06.94zm-11 1L8.5 8.5l.94-2.06 2.06-.94-2.06-.94L8.5 2.5l-.94 2.06-2.06.94zm10 10l.94 2.06.94-2.06 2.06-.94-2.06-.94-.94-2.06-.94 2.06-2.06.94z\"/><path d=\"M17.41 7.96l-1.37-1.37c-.4-.4-.92-.59-1.43-.59-.52 0-1.04.2-1.43.59L10.3 9.45l-7.72 7.72c-.78.78-.78 2.05 0 2.83L4 21.41c.39.39.9.59 1.41.59.51 0 1.02-.2 1.41-.59l7.78-7.78 2.81-2.81c.8-.78.8-2.07 0-2.86zM5.41 20L4 18.59l7.72-7.72 1.47 1.35L5.41 20z\"/>\n",
              "  </svg>\n",
              "      </button>\n",
              "      \n",
              "  <style>\n",
              "    .colab-df-container {\n",
              "      display:flex;\n",
              "      flex-wrap:wrap;\n",
              "      gap: 12px;\n",
              "    }\n",
              "\n",
              "    .colab-df-convert {\n",
              "      background-color: #E8F0FE;\n",
              "      border: none;\n",
              "      border-radius: 50%;\n",
              "      cursor: pointer;\n",
              "      display: none;\n",
              "      fill: #1967D2;\n",
              "      height: 32px;\n",
              "      padding: 0 0 0 0;\n",
              "      width: 32px;\n",
              "    }\n",
              "\n",
              "    .colab-df-convert:hover {\n",
              "      background-color: #E2EBFA;\n",
              "      box-shadow: 0px 1px 2px rgba(60, 64, 67, 0.3), 0px 1px 3px 1px rgba(60, 64, 67, 0.15);\n",
              "      fill: #174EA6;\n",
              "    }\n",
              "\n",
              "    [theme=dark] .colab-df-convert {\n",
              "      background-color: #3B4455;\n",
              "      fill: #D2E3FC;\n",
              "    }\n",
              "\n",
              "    [theme=dark] .colab-df-convert:hover {\n",
              "      background-color: #434B5C;\n",
              "      box-shadow: 0px 1px 3px 1px rgba(0, 0, 0, 0.15);\n",
              "      filter: drop-shadow(0px 1px 2px rgba(0, 0, 0, 0.3));\n",
              "      fill: #FFFFFF;\n",
              "    }\n",
              "  </style>\n",
              "\n",
              "      <script>\n",
              "        const buttonEl =\n",
              "          document.querySelector('#df-4462dcb3-afbe-4c72-a859-09d2f1861007 button.colab-df-convert');\n",
              "        buttonEl.style.display =\n",
              "          google.colab.kernel.accessAllowed ? 'block' : 'none';\n",
              "\n",
              "        async function convertToInteractive(key) {\n",
              "          const element = document.querySelector('#df-4462dcb3-afbe-4c72-a859-09d2f1861007');\n",
              "          const dataTable =\n",
              "            await google.colab.kernel.invokeFunction('convertToInteractive',\n",
              "                                                     [key], {});\n",
              "          if (!dataTable) return;\n",
              "\n",
              "          const docLinkHtml = 'Like what you see? Visit the ' +\n",
              "            '<a target=\"_blank\" href=https://colab.research.google.com/notebooks/data_table.ipynb>data table notebook</a>'\n",
              "            + ' to learn more about interactive tables.';\n",
              "          element.innerHTML = '';\n",
              "          dataTable['output_type'] = 'display_data';\n",
              "          await google.colab.output.renderOutput(dataTable, element);\n",
              "          const docLink = document.createElement('div');\n",
              "          docLink.innerHTML = docLinkHtml;\n",
              "          element.appendChild(docLink);\n",
              "        }\n",
              "      </script>\n",
              "    </div>\n",
              "  </div>\n",
              "  "
            ]
          },
          "metadata": {},
          "execution_count": 49
        }
      ]
    },
    {
      "cell_type": "markdown",
      "source": [
        "使用圓餅圖分別觀察：不同顏色愛好者，對於氣泡飲的愛好數據"
      ],
      "metadata": {
        "id": "XYf52FNcgRkh"
      }
    },
    {
      "cell_type": "code",
      "source": [
        "# 【TODO】 數據集彙整 (使用列表儲存people counts數據，直接輸入數字)\n",
        "datas_color_cool = [7, 18, 6, 6]\n",
        "\n",
        "# 資料標籤\n",
        "label_cool = ['coo1_7UP', 'cool_coca', 'cool_Fanta', 'cool_other']\n",
        "\n",
        "# 圖表基礎設定\n",
        "fig1, ax1 = plt.subplots()\n",
        "ax1.pie(datas_color_cool, labels = label_cool, autopct = '%.1f%%', shadow = False, startangle = 90, textprops = {'fontsize': 20})\n",
        "\n",
        "# 增加標題\n",
        "ax1.set_title(\"冷色系愛好者，氣泡飲愛好\", size = 20)\n",
        "\n",
        "# 增加圖例\n",
        "ax1.legend(loc = \"lower right\")\n",
        "\n",
        "# 設定圖表大小\n",
        "fig1.set_size_inches(16,8)\n",
        "plt.show()"
      ],
      "metadata": {
        "id": "xFEoNy_mfgo1",
        "colab": {
          "base_uri": "https://localhost:8080/",
          "height": 488
        },
        "outputId": "a2f33a93-840a-47b2-81b5-c61d509a67ae"
      },
      "execution_count": 55,
      "outputs": [
        {
          "output_type": "display_data",
          "data": {
            "text/plain": [
              "<Figure size 1152x576 with 1 Axes>"
            ],
            "image/png": "[encoded data removed]"
          },
          "metadata": {}
        }
      ]
    },
    {
      "cell_type": "code",
      "source": [
        "# 【TODO】 數據集彙整 (使用列表儲存people counts數據，直接輸入數字)\n",
        "datas_color_Neutral = [2, 4, 1]\n",
        "\n",
        "# 資料標籤\n",
        "label_Neutral = ['Neutral_7UP', 'Neutral_coca', 'Neutral_Fanta']\n",
        "\n",
        "# 圖表基礎設定\n",
        "fig1, ax1 = plt.subplots()\n",
        "ax1.pie(datas_color_Neutral, labels=label_Neutral, autopct='%.1f%%', shadow=False, startangle=90, textprops={'fontsize': 20})\n",
        "\n",
        "# 增加標題\n",
        "ax1.set_title(\"無色系愛好者，氣泡飲愛好\", size=20)\n",
        "\n",
        "# 增加圖例\n",
        "ax1.legend(loc = \"lower left\")\n",
        "\n",
        "# 設定圖表大小\n",
        "fig1.set_size_inches(10,8)\n",
        "plt.show()"
      ],
      "metadata": {
        "id": "_tnQkodchaOp",
        "colab": {
          "base_uri": "https://localhost:8080/",
          "height": 488
        },
        "outputId": "de348846-e50e-4668-b79f-1bc294f87a9f"
      },
      "execution_count": 67,
      "outputs": [
        {
          "output_type": "display_data",
          "data": {
            "text/plain": [
              "<Figure size 720x576 with 1 Axes>"
            ],
            "image/png": "[encoded data removed]"
          },
          "metadata": {}
        }
      ]
    },
    {
      "cell_type": "code",
      "source": [
        "# 【TODO】 數據集彙整 (使用列表儲存people counts 數據，直接輸入數字)\n",
        "datas_color_Warm = [4, 10, 7, 1]\n",
        "\n",
        "# 資料標籤\n",
        "label_Warm = ['Warm_7UP', 'Warm_coca', 'Warm_Fanta', 'Warm_other']\n",
        "\n",
        "# 圖表基礎設定\n",
        "fig1, ax1 = plt.subplots()\n",
        "ax1.pie(datas_color_Warm, labels=label_Warm, autopct='%.1f%%', shadow=False, startangle=90, textprops={'fontsize': 20})\n",
        "\n",
        "# 增加標題\n",
        "ax1.set_title(\"暖色系愛好者，氣泡飲愛好\", size=20)\n",
        "\n",
        "# 增加圖例\n",
        "ax1.legend(loc = \"lower right\")\n",
        "\n",
        "# 設定圖表大小\n",
        "fig1.set_size_inches(14,16)\n",
        "plt.show()"
      ],
      "metadata": {
        "id": "dr9DBvAph62C",
        "colab": {
          "base_uri": "https://localhost:8080/",
          "height": 834
        },
        "outputId": "1f4d5152-e62e-46a1-d2d5-e83cad8c6756"
      },
      "execution_count": 80,
      "outputs": [
        {
          "output_type": "display_data",
          "data": {
            "text/plain": [
              "<Figure size 1008x1152 with 1 Axes>"
            ],
            "image/png": "[encoded data removed]"
          },
          "metadata": {}
        }
      ]
    },
    {
      "cell_type": "markdown",
      "source": [
        "恭喜你/妳，成功完成第一個數據分析的實務專案！"
      ],
      "metadata": {
        "id": "4ahsLxtllQeb"
      }
    },
    {
      "cell_type": "code",
      "source": [
        ""
      ],
      "metadata": {
        "id": "t3voehwKiPFI"
      },
      "execution_count": 72,
      "outputs": []
    }
  ]
}